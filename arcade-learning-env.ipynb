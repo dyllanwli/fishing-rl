{
 "cells": [
  {
   "cell_type": "code",
   "execution_count": 1,
   "metadata": {},
   "outputs": [
    {
     "data": {
      "text/plain": [
       "<pyvirtualdisplay.display.Display at 0x7fb0f6498880>"
      ]
     },
     "execution_count": 1,
     "metadata": {},
     "output_type": "execute_result"
    }
   ],
   "source": [
    "import ale_py\n",
    "import gym\n",
    "import gym\n",
    "from stable_baselines3 import PPO\n",
    "import base64\n",
    "\n",
    "from stable_baselines3 import A2C\n",
    "from stable_baselines3.common.env_util import make_atari_env\n",
    "from stable_baselines3.common.vec_env import VecFrameStack\n",
    "\n",
    "# for rendering\n",
    "import imageio\n",
    "import IPython\n",
    "from PIL import Image\n",
    "from pyvirtualdisplay import Display\n",
    "display = Display(visible=0, size=(1400, 900))\n",
    "display.start()"
   ]
  },
  {
   "cell_type": "code",
   "execution_count": 2,
   "metadata": {},
   "outputs": [],
   "source": [
    "# There already exists an environment generator that will make and wrap atari environments correctly.\n",
    "env_name = \"ALE/FishingDerby-v5\"\n",
    "env = make_atari_env(env_name, n_envs=4, seed=0)\n",
    "# Stack 4 frames\n",
    "env = VecFrameStack(env, n_stack=4)\n",
    "\n",
    "# gym \n",
    "# env = gym.make('ALE/FishingDerby-v5')\n",
    "# model = PPO(\"MlpPolicy\", env, verbose=0, tensorboard_log=\"./tensorboards/\")\n",
    "# model.learn(total_timesteps=20000)"
   ]
  },
  {
   "cell_type": "code",
   "execution_count": 3,
   "metadata": {},
   "outputs": [
    {
     "data": {
      "text/plain": [
       "<stable_baselines3.a2c.a2c.A2C at 0x7fb194818b80>"
      ]
     },
     "execution_count": 3,
     "metadata": {},
     "output_type": "execute_result"
    }
   ],
   "source": [
    "pretrained_model = A2C('CnnPolicy', env, verbose=0, tensorboard_log=\"./tensorboards/\")\n",
    "pretrained_model.learn(total_timesteps=20000)"
   ]
  },
  {
   "cell_type": "code",
   "execution_count": 4,
   "metadata": {},
   "outputs": [],
   "source": [
    "pretrained_model.save(\"a2c_fishing\")\n",
    "trained_model = A2C.load(\"a2c_fishing\", verbose=0, tensorboard_log=\"./tensorboards/\")\n",
    "env = make_atari_env(env_name, n_envs=4, seed=0)\n",
    "env = VecFrameStack(env, n_stack=4)\n",
    "trained_model.set_env(env)"
   ]
  },
  {
   "cell_type": "code",
   "execution_count": 5,
   "metadata": {},
   "outputs": [
    {
     "data": {
      "text/plain": [
       "<stable_baselines3.a2c.a2c.A2C at 0x7fb1947fa6a0>"
      ]
     },
     "execution_count": 5,
     "metadata": {},
     "output_type": "execute_result"
    }
   ],
   "source": [
    "trained_model.learn(total_timesteps=int(0.5e5))"
   ]
  },
  {
   "cell_type": "code",
   "execution_count": 6,
   "metadata": {},
   "outputs": [
    {
     "data": {
      "text/plain": [
       "'eval_video.gif'"
      ]
     },
     "execution_count": 6,
     "metadata": {},
     "output_type": "execute_result"
    }
   ],
   "source": [
    "def create_policy_eval_video(eval_env, policy_model, filename=\"eval_video\", num_episodes=1000, fps=30):\n",
    "    filename = filename + \".gif\"\n",
    "    with imageio.get_writer(filename, fps=fps) as video:\n",
    "        obs = eval_env.reset()\n",
    "        for _ in range(num_episodes):\n",
    "            action, _states = policy_model.predict(obs, deterministic=True)\n",
    "            obs, reward, done, info = eval_env.step(action)\n",
    "            im = eval_env.render(mode=\"rgb_array\")\n",
    "            video.append_data(im)\n",
    "            if done.all():\n",
    "                obs = eval_env.reset()\n",
    "                # video.append_data(eval_env.render(mode=mode))\n",
    "                break\n",
    "        eval_env.close()\n",
    "    return filename\n",
    "    \n",
    "create_policy_eval_video(env, trained_model)"
   ]
  },
  {
   "cell_type": "code",
   "execution_count": null,
   "metadata": {},
   "outputs": [],
   "source": []
  }
 ],
 "metadata": {
  "interpreter": {
   "hash": "80860918312baba1287d743f7feea83bd862b1e76b6d0ad9d71444c5625316da"
  },
  "kernelspec": {
   "display_name": "Python 3.8.3 ('base')",
   "language": "python",
   "name": "python3"
  },
  "language_info": {
   "codemirror_mode": {
    "name": "ipython",
    "version": 3
   },
   "file_extension": ".py",
   "mimetype": "text/x-python",
   "name": "python",
   "nbconvert_exporter": "python",
   "pygments_lexer": "ipython3",
   "version": "3.8.3"
  },
  "orig_nbformat": 4
 },
 "nbformat": 4,
 "nbformat_minor": 2
}
